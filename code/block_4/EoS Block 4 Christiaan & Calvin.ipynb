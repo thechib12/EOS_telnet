{
 "cells": [
  {
   "cell_type": "code",
   "execution_count": 1,
   "metadata": {},
   "outputs": [],
   "source": [
    "import pandas as pd\n",
    "import matplotlib.pyplot as plt\n",
    "import numpy as np\n"
   ]
  },
  {
   "cell_type": "code",
   "execution_count": 2,
   "metadata": {},
   "outputs": [],
   "source": [
    "\n",
    "\n",
    "df = pd.read_csv('telnetscan.csv', parse_dates = ['timestamp'] )\n"
   ]
  },
  {
   "cell_type": "code",
   "execution_count": 3,
   "metadata": {},
   "outputs": [],
   "source": [
    "# df.ip.value_counts()\n",
    "# df = df.drop_duplicates(['ip'])\n",
    "df['timestamp'] = df['timestamp'].dt.date"
   ]
  },
  {
   "cell_type": "code",
   "execution_count": 4,
   "metadata": {},
   "outputs": [
    {
     "data": {
      "text/html": [
       "<div>\n",
       "<style scoped>\n",
       "    .dataframe tbody tr th:only-of-type {\n",
       "        vertical-align: middle;\n",
       "    }\n",
       "\n",
       "    .dataframe tbody tr th {\n",
       "        vertical-align: top;\n",
       "    }\n",
       "\n",
       "    .dataframe thead th {\n",
       "        text-align: right;\n",
       "    }\n",
       "</style>\n",
       "<table border=\"1\" class=\"dataframe\">\n",
       "  <thead>\n",
       "    <tr style=\"text-align: right;\">\n",
       "      <th></th>\n",
       "      <th>timestamp</th>\n",
       "      <th>ip</th>\n",
       "      <th>protocol</th>\n",
       "      <th>port</th>\n",
       "      <th>hostname</th>\n",
       "      <th>tag</th>\n",
       "      <th>asn</th>\n",
       "      <th>geo</th>\n",
       "      <th>region</th>\n",
       "      <th>city</th>\n",
       "      <th>naics</th>\n",
       "      <th>sic</th>\n",
       "      <th>banner</th>\n",
       "    </tr>\n",
       "  </thead>\n",
       "  <tbody>\n",
       "    <tr>\n",
       "      <th>0</th>\n",
       "      <td>2018-01-01</td>\n",
       "      <td>185.42.87.77</td>\n",
       "      <td>tcp</td>\n",
       "      <td>2323</td>\n",
       "      <td>NaN</td>\n",
       "      <td>telnet-alt</td>\n",
       "      <td>206250</td>\n",
       "      <td>NL</td>\n",
       "      <td>ZUID-HOLLAND</td>\n",
       "      <td>ALPHEN AAN DEN RIJN</td>\n",
       "      <td>0</td>\n",
       "      <td>0</td>\n",
       "      <td>||||Account:</td>\n",
       "    </tr>\n",
       "    <tr>\n",
       "      <th>1</th>\n",
       "      <td>2018-01-01</td>\n",
       "      <td>88.159.38.196</td>\n",
       "      <td>tcp</td>\n",
       "      <td>2323</td>\n",
       "      <td>NaN</td>\n",
       "      <td>telnet-alt</td>\n",
       "      <td>39309</td>\n",
       "      <td>NL</td>\n",
       "      <td>UTRECHT</td>\n",
       "      <td>AMERSFOORT</td>\n",
       "      <td>0</td>\n",
       "      <td>0</td>\n",
       "      <td>SSH-2.0-OpenSSH_6.7p1 Raspbian-5+deb8u3|</td>\n",
       "    </tr>\n",
       "    <tr>\n",
       "      <th>2</th>\n",
       "      <td>2018-01-01</td>\n",
       "      <td>213.124.77.58</td>\n",
       "      <td>tcp</td>\n",
       "      <td>2323</td>\n",
       "      <td>d57c4d3a.static.ziggozakelijk.nl</td>\n",
       "      <td>telnet-alt</td>\n",
       "      <td>9143</td>\n",
       "      <td>NL</td>\n",
       "      <td>FRIESLAND</td>\n",
       "      <td>OOSTERWOLDE</td>\n",
       "      <td>0</td>\n",
       "      <td>0</td>\n",
       "      <td>||||Account:</td>\n",
       "    </tr>\n",
       "    <tr>\n",
       "      <th>3</th>\n",
       "      <td>2018-01-01</td>\n",
       "      <td>213.34.91.67</td>\n",
       "      <td>tcp</td>\n",
       "      <td>2323</td>\n",
       "      <td>d5225b43.static.ziggozakelijk.nl</td>\n",
       "      <td>telnet-alt</td>\n",
       "      <td>9143</td>\n",
       "      <td>NL</td>\n",
       "      <td>GELDERLAND</td>\n",
       "      <td>CULEMBORG</td>\n",
       "      <td>0</td>\n",
       "      <td>0</td>\n",
       "      <td>|Wandy v5.25|Login:</td>\n",
       "    </tr>\n",
       "    <tr>\n",
       "      <th>4</th>\n",
       "      <td>2018-01-01</td>\n",
       "      <td>188.205.51.226</td>\n",
       "      <td>tcp</td>\n",
       "      <td>2323</td>\n",
       "      <td>static.kpn.net</td>\n",
       "      <td>telnet-alt</td>\n",
       "      <td>1136</td>\n",
       "      <td>NL</td>\n",
       "      <td>NOORD-HOLLAND</td>\n",
       "      <td>AMSTERDAM</td>\n",
       "      <td>518210</td>\n",
       "      <td>737415</td>\n",
       "      <td>login:</td>\n",
       "    </tr>\n",
       "    <tr>\n",
       "      <th>...</th>\n",
       "      <td>...</td>\n",
       "      <td>...</td>\n",
       "      <td>...</td>\n",
       "      <td>...</td>\n",
       "      <td>...</td>\n",
       "      <td>...</td>\n",
       "      <td>...</td>\n",
       "      <td>...</td>\n",
       "      <td>...</td>\n",
       "      <td>...</td>\n",
       "      <td>...</td>\n",
       "      <td>...</td>\n",
       "      <td>...</td>\n",
       "    </tr>\n",
       "    <tr>\n",
       "      <th>5102534</th>\n",
       "      <td>2018-08-30</td>\n",
       "      <td>51.136.16.242</td>\n",
       "      <td>tcp</td>\n",
       "      <td>23</td>\n",
       "      <td>NaN</td>\n",
       "      <td>telnet</td>\n",
       "      <td>8075</td>\n",
       "      <td>NL</td>\n",
       "      <td>NOORD-HOLLAND</td>\n",
       "      <td>AMSTERDAM</td>\n",
       "      <td>334111</td>\n",
       "      <td>357101</td>\n",
       "      <td>SSH-2.0-OpenSSH_7.2p2 Ubuntu-4ubuntu2.4|</td>\n",
       "    </tr>\n",
       "    <tr>\n",
       "      <th>5102551</th>\n",
       "      <td>2018-08-30</td>\n",
       "      <td>178.230.206.214</td>\n",
       "      <td>tcp</td>\n",
       "      <td>23</td>\n",
       "      <td>NaN</td>\n",
       "      <td>telnet</td>\n",
       "      <td>31615</td>\n",
       "      <td>NL</td>\n",
       "      <td>ZUID-HOLLAND</td>\n",
       "      <td>BARENDRECHT</td>\n",
       "      <td>0</td>\n",
       "      <td>0</td>\n",
       "      <td>Cellular Router Configure Environmen|Username:</td>\n",
       "    </tr>\n",
       "    <tr>\n",
       "      <th>5102558</th>\n",
       "      <td>2018-08-30</td>\n",
       "      <td>83.232.47.153</td>\n",
       "      <td>tcp</td>\n",
       "      <td>23</td>\n",
       "      <td>host-83-232-47-153.kpn-gprs.nl</td>\n",
       "      <td>telnet</td>\n",
       "      <td>1134</td>\n",
       "      <td>NL</td>\n",
       "      <td>ZUID-HOLLAND</td>\n",
       "      <td>THE HAGUE</td>\n",
       "      <td>0</td>\n",
       "      <td>0</td>\n",
       "      <td>NaN</td>\n",
       "    </tr>\n",
       "    <tr>\n",
       "      <th>5102616</th>\n",
       "      <td>2018-08-30</td>\n",
       "      <td>95.98.38.217</td>\n",
       "      <td>tcp</td>\n",
       "      <td>23</td>\n",
       "      <td>NaN</td>\n",
       "      <td>telnet</td>\n",
       "      <td>31615</td>\n",
       "      <td>NL</td>\n",
       "      <td>ZUID-HOLLAND</td>\n",
       "      <td>THE HAGUE</td>\n",
       "      <td>0</td>\n",
       "      <td>0</td>\n",
       "      <td>Login to telnet. (your ip: 74.82.47.5 is regis...</td>\n",
       "    </tr>\n",
       "    <tr>\n",
       "      <th>5102698</th>\n",
       "      <td>2018-08-30</td>\n",
       "      <td>213.219.190.165</td>\n",
       "      <td>tcp</td>\n",
       "      <td>23</td>\n",
       "      <td>213.219.190.165.adsl.dyn.edpnet.net</td>\n",
       "      <td>telnet</td>\n",
       "      <td>9031</td>\n",
       "      <td>NL</td>\n",
       "      <td>NOORD-HOLLAND</td>\n",
       "      <td>AMSTERDAM</td>\n",
       "      <td>0</td>\n",
       "      <td>0</td>\n",
       "      <td>login:</td>\n",
       "    </tr>\n",
       "  </tbody>\n",
       "</table>\n",
       "<p>125915 rows × 13 columns</p>\n",
       "</div>"
      ],
      "text/plain": [
       "          timestamp               ip protocol  port  \\\n",
       "0        2018-01-01     185.42.87.77      tcp  2323   \n",
       "1        2018-01-01    88.159.38.196      tcp  2323   \n",
       "2        2018-01-01    213.124.77.58      tcp  2323   \n",
       "3        2018-01-01     213.34.91.67      tcp  2323   \n",
       "4        2018-01-01   188.205.51.226      tcp  2323   \n",
       "...             ...              ...      ...   ...   \n",
       "5102534  2018-08-30    51.136.16.242      tcp    23   \n",
       "5102551  2018-08-30  178.230.206.214      tcp    23   \n",
       "5102558  2018-08-30    83.232.47.153      tcp    23   \n",
       "5102616  2018-08-30     95.98.38.217      tcp    23   \n",
       "5102698  2018-08-30  213.219.190.165      tcp    23   \n",
       "\n",
       "                                    hostname         tag     asn geo  \\\n",
       "0                                        NaN  telnet-alt  206250  NL   \n",
       "1                                        NaN  telnet-alt   39309  NL   \n",
       "2           d57c4d3a.static.ziggozakelijk.nl  telnet-alt    9143  NL   \n",
       "3           d5225b43.static.ziggozakelijk.nl  telnet-alt    9143  NL   \n",
       "4                             static.kpn.net  telnet-alt    1136  NL   \n",
       "...                                      ...         ...     ...  ..   \n",
       "5102534                                  NaN      telnet    8075  NL   \n",
       "5102551                                  NaN      telnet   31615  NL   \n",
       "5102558       host-83-232-47-153.kpn-gprs.nl      telnet    1134  NL   \n",
       "5102616                                  NaN      telnet   31615  NL   \n",
       "5102698  213.219.190.165.adsl.dyn.edpnet.net      telnet    9031  NL   \n",
       "\n",
       "                region                 city   naics     sic  \\\n",
       "0         ZUID-HOLLAND  ALPHEN AAN DEN RIJN       0       0   \n",
       "1              UTRECHT           AMERSFOORT       0       0   \n",
       "2            FRIESLAND          OOSTERWOLDE       0       0   \n",
       "3           GELDERLAND            CULEMBORG       0       0   \n",
       "4        NOORD-HOLLAND            AMSTERDAM  518210  737415   \n",
       "...                ...                  ...     ...     ...   \n",
       "5102534  NOORD-HOLLAND            AMSTERDAM  334111  357101   \n",
       "5102551   ZUID-HOLLAND          BARENDRECHT       0       0   \n",
       "5102558   ZUID-HOLLAND            THE HAGUE       0       0   \n",
       "5102616   ZUID-HOLLAND            THE HAGUE       0       0   \n",
       "5102698  NOORD-HOLLAND            AMSTERDAM       0       0   \n",
       "\n",
       "                                                    banner  \n",
       "0                                             ||||Account:  \n",
       "1                 SSH-2.0-OpenSSH_6.7p1 Raspbian-5+deb8u3|  \n",
       "2                                             ||||Account:  \n",
       "3                                     |Wandy v5.25|Login:   \n",
       "4                                                  login:   \n",
       "...                                                    ...  \n",
       "5102534           SSH-2.0-OpenSSH_7.2p2 Ubuntu-4ubuntu2.4|  \n",
       "5102551     Cellular Router Configure Environmen|Username:  \n",
       "5102558                                                NaN  \n",
       "5102616  Login to telnet. (your ip: 74.82.47.5 is regis...  \n",
       "5102698                                             login:  \n",
       "\n",
       "[125915 rows x 13 columns]"
      ]
     },
     "execution_count": 4,
     "metadata": {},
     "output_type": "execute_result"
    }
   ],
   "source": [
    "days = df.timestamp.unique()\n",
    "df.drop_duplicates(subset=['ip'], inplace=True)\n",
    "df"
   ]
  },
  {
   "cell_type": "code",
   "execution_count": 5,
   "metadata": {},
   "outputs": [
    {
     "name": "stderr",
     "output_type": "stream",
     "text": [
      "c:\\program files\\python36\\lib\\site-packages\\pandas\\plotting\\_matplotlib\\converter.py:103: FutureWarning: Using an implicitly registered datetime converter for a matplotlib plotting method. The converter was registered by pandas on import. Future versions of pandas will require you to explicitly register matplotlib converters.\n",
      "\n",
      "To register the converters:\n",
      "\t>>> from pandas.plotting import register_matplotlib_converters\n",
      "\t>>> register_matplotlib_converters()\n",
      "  warnings.warn(msg, FutureWarning)\n"
     ]
    },
    {
     "data": {
      "text/plain": [
       "[<matplotlib.lines.Line2D at 0x188d8fb87f0>]"
      ]
     },
     "execution_count": 5,
     "metadata": {},
     "output_type": "execute_result"
    },
    {
     "data": {
      "image/png": "[encoded data removed]",
      "text/plain": [
       "<Figure size 432x288 with 1 Axes>"
      ]
     },
     "metadata": {
      "needs_background": "light"
     },
     "output_type": "display_data"
    }
   ],
   "source": [
    "x = df.timestamp.value_counts().sort_index()\n",
    "plt.plot(x)"
   ]
  },
  {
   "cell_type": "code",
   "execution_count": 5,
   "metadata": {},
   "outputs": [],
   "source": [
    "df['hostname2'] = df.hostname.str.rsplit(\".\", n=2, expand=False)\n"
   ]
  },
  {
   "cell_type": "code",
   "execution_count": 6,
   "metadata": {},
   "outputs": [],
   "source": [
    "df2 = df.dropna(subset = [\"hostname2\"])"
   ]
  },
  {
   "cell_type": "code",
   "execution_count": 7,
   "metadata": {},
   "outputs": [
    {
     "name": "stderr",
     "output_type": "stream",
     "text": [
      "c:\\program files\\python36\\lib\\site-packages\\ipykernel_launcher.py:1: SettingWithCopyWarning: \n",
      "A value is trying to be set on a copy of a slice from a DataFrame.\n",
      "Try using .loc[row_indexer,col_indexer] = value instead\n",
      "\n",
      "See the caveats in the documentation: http://pandas.pydata.org/pandas-docs/stable/user_guide/indexing.html#returning-a-view-versus-a-copy\n",
      "  \"\"\"Entry point for launching an IPython kernel.\n"
     ]
    }
   ],
   "source": [
    "df2['hostname2'] = df2.hostname2.apply(lambda x : str(x[-2]) + \".\" + str(x[-1]) if len(x) > 1 else x)\n",
    "\n"
   ]
  },
  {
   "cell_type": "code",
   "execution_count": 41,
   "metadata": {},
   "outputs": [
    {
     "name": "stderr",
     "output_type": "stream",
     "text": [
      "c:\\program files\\python36\\lib\\site-packages\\ipykernel_launcher.py:1: SettingWithCopyWarning: \n",
      "A value is trying to be set on a copy of a slice from a DataFrame.\n",
      "Try using .loc[row_indexer,col_indexer] = value instead\n",
      "\n",
      "See the caveats in the documentation: http://pandas.pydata.org/pandas-docs/stable/user_guide/indexing.html#returning-a-view-versus-a-copy\n",
      "  \"\"\"Entry point for launching an IPython kernel.\n"
     ]
    },
    {
     "data": {
      "text/plain": [
       "<bound method Series.unique of 2          ziggozakelijk.nl\n",
       "3          ziggozakelijk.nl\n",
       "4                   kpn.net\n",
       "5                routit.net\n",
       "7                 online.nl\n",
       "                 ...       \n",
       "5101953         kpn-gprs.nl\n",
       "5102240            ziggo.nl\n",
       "5102404         kpn-gprs.nl\n",
       "5102558         kpn-gprs.nl\n",
       "5102698          edpnet.net\n",
       "Name: hostname2, Length: 52636, dtype: object>"
      ]
     },
     "execution_count": 41,
     "metadata": {},
     "output_type": "execute_result"
    }
   ],
   "source": [
    "df2['hostname2'] = df2['hostname2'].astype('str') \n",
    "df2.hostname2.unique\n"
   ]
  },
  {
   "cell_type": "code",
   "execution_count": null,
   "metadata": {},
   "outputs": [],
   "source": [
    "word_list = [\"login\", \"username\", \"login\" , \"account\", \"user\"]\n",
    "endresult = dict()\n",
    "hosts = df2.hostname2.tolist()\n",
    "for host in hosts:\n",
    "    df_host = df2.loc[df2['hostname2'] == host]\n",
    "    result = list()\n",
    "    for day in days:\n",
    "        vc = df_host.loc[df_host.timestamp == day].banner.value_counts()\n",
    "        total_banner = 0\n",
    "        total_count = 0\n",
    "        for banner,count in vc.items():\n",
    "            for word in word_list:\n",
    "                if word in  banner.lower():\n",
    "        #             print(banner)\n",
    "                    total_banner += 1 \n",
    "                    total_count += count\n",
    "                    break\n",
    "        if len(df_host.loc[df_host.timestamp == day]) > 0:\n",
    "            result.append(total_count/df_host.loc[df_host.timestamp == day].shape[0])\n",
    "    endresult[host] = np.mean(result)\n",
    "\n",
    "endresult"
   ]
  },
  {
   "cell_type": "code",
   "execution_count": 90,
   "metadata": {},
   "outputs": [
    {
     "data": {
      "text/plain": [
       "array(['FRIESLAND', 'GELDERLAND', 'NOORD-HOLLAND', 'OVERIJSSEL',\n",
       "       'ZEELAND', 'ZUID-HOLLAND', 'FLEVOLAND', 'UTRECHT', 'DRENTHE',\n",
       "       'NOORD-BRABANT', 'LIMBURG', 'NETHERLANDS', 'GRONINGEN'],\n",
       "      dtype=object)"
      ]
     },
     "execution_count": 90,
     "metadata": {},
     "output_type": "execute_result"
    }
   ],
   "source": [
    "dfsld = df2.groupby(['hostname2'])\n",
    "dfsld.head(10)\n",
    "df3 = df2[['hostname2', 'region']]\n",
    "df3.hostname2.unique\n",
    "df2.region.unique()\n"
   ]
  },
  {
   "cell_type": "code",
   "execution_count": 48,
   "metadata": {},
   "outputs": [
    {
     "data": {
      "text/html": [
       "<div>\n",
       "<style scoped>\n",
       "    .dataframe tbody tr th:only-of-type {\n",
       "        vertical-align: middle;\n",
       "    }\n",
       "\n",
       "    .dataframe tbody tr th {\n",
       "        vertical-align: top;\n",
       "    }\n",
       "\n",
       "    .dataframe thead th {\n",
       "        text-align: right;\n",
       "    }\n",
       "</style>\n",
       "<table border=\"1\" class=\"dataframe\">\n",
       "  <thead>\n",
       "    <tr style=\"text-align: right;\">\n",
       "      <th></th>\n",
       "      <th>hostname2</th>\n",
       "      <th>region</th>\n",
       "    </tr>\n",
       "  </thead>\n",
       "  <tbody>\n",
       "    <tr>\n",
       "      <th>2</th>\n",
       "      <td>ziggozakelijk.nl</td>\n",
       "      <td>FRIESLAND</td>\n",
       "    </tr>\n",
       "    <tr>\n",
       "      <th>3</th>\n",
       "      <td>ziggozakelijk.nl</td>\n",
       "      <td>GELDERLAND</td>\n",
       "    </tr>\n",
       "    <tr>\n",
       "      <th>4</th>\n",
       "      <td>kpn.net</td>\n",
       "      <td>NOORD-HOLLAND</td>\n",
       "    </tr>\n",
       "    <tr>\n",
       "      <th>5</th>\n",
       "      <td>routit.net</td>\n",
       "      <td>OVERIJSSEL</td>\n",
       "    </tr>\n",
       "    <tr>\n",
       "      <th>7</th>\n",
       "      <td>online.nl</td>\n",
       "      <td>NOORD-HOLLAND</td>\n",
       "    </tr>\n",
       "  </tbody>\n",
       "</table>\n",
       "</div>"
      ],
      "text/plain": [
       "          hostname2         region\n",
       "2  ziggozakelijk.nl      FRIESLAND\n",
       "3  ziggozakelijk.nl     GELDERLAND\n",
       "4           kpn.net  NOORD-HOLLAND\n",
       "5        routit.net     OVERIJSSEL\n",
       "7         online.nl  NOORD-HOLLAND"
      ]
     },
     "execution_count": 48,
     "metadata": {},
     "output_type": "execute_result"
    }
   ],
   "source": [
    "df3.head(5)"
   ]
  },
  {
   "cell_type": "code",
   "execution_count": 91,
   "metadata": {},
   "outputs": [
    {
     "data": {
      "image/png": "[encoded data removed]",
      "text/plain": [
       "<Figure size 432x288 with 1 Axes>"
      ]
     },
     "metadata": {
      "needs_background": "light"
     },
     "output_type": "display_data"
    },
    {
     "data": {
      "image/png": "[encoded data removed]",
      "text/plain": [
       "<Figure size 432x288 with 1 Axes>"
      ]
     },
     "metadata": {
      "needs_background": "light"
     },
     "output_type": "display_data"
    },
    {
     "data": {
      "image/png": "[encoded data removed]",
      "text/plain": [
       "<Figure size 432x288 with 1 Axes>"
      ]
     },
     "metadata": {
      "needs_background": "light"
     },
     "output_type": "display_data"
    },
    {
     "data": {
      "image/png": "[encoded data removed]",
      "text/plain": [
       "<Figure size 432x288 with 1 Axes>"
      ]
     },
     "metadata": {
      "needs_background": "light"
     },
     "output_type": "display_data"
    },
    {
     "data": {
      "image/png": "[encoded data removed]",
      "text/plain": [
       "<Figure size 432x288 with 1 Axes>"
      ]
     },
     "metadata": {
      "needs_background": "light"
     },
     "output_type": "display_data"
    },
    {
     "data": {
      "image/png": "[encoded data removed]",
      "text/plain": [
       "<Figure size 432x288 with 1 Axes>"
      ]
     },
     "metadata": {
      "needs_background": "light"
     },
     "output_type": "display_data"
    },
    {
     "data": {
      "image/png": "[encoded data removed]",
      "text/plain": [
       "<Figure size 432x288 with 1 Axes>"
      ]
     },
     "metadata": {
      "needs_background": "light"
     },
     "output_type": "display_data"
    },
    {
     "data": {
      "image/png": "[encoded data removed]",
      "text/plain": [
       "<Figure size 432x288 with 1 Axes>"
      ]
     },
     "metadata": {
      "needs_background": "light"
     },
     "output_type": "display_data"
    },
    {
     "data": {
      "image/png": "[encoded data removed]",
      "text/plain": [
       "<Figure size 432x288 with 1 Axes>"
      ]
     },
     "metadata": {
      "needs_background": "light"
     },
     "output_type": "display_data"
    },
    {
     "data": {
      "image/png": "[encoded data removed]",
      "text/plain": [
       "<Figure size 432x288 with 1 Axes>"
      ]
     },
     "metadata": {
      "needs_background": "light"
     },
     "output_type": "display_data"
    },
    {
     "data": {
      "image/png": "[encoded data removed]",
      "text/plain": [
       "<Figure size 432x288 with 1 Axes>"
      ]
     },
     "metadata": {
      "needs_background": "light"
     },
     "output_type": "display_data"
    },
    {
     "data": {
      "image/png": "[encoded data removed]",
      "text/plain": [
       "<Figure size 432x288 with 1 Axes>"
      ]
     },
     "metadata": {
      "needs_background": "light"
     },
     "output_type": "display_data"
    },
    {
     "data": {
      "image/png": "[encoded data removed]",
      "text/plain": [
       "<Figure size 432x288 with 1 Axes>"
      ]
     },
     "metadata": {
      "needs_background": "light"
     },
     "output_type": "display_data"
    }
   ],
   "source": [
    "regions = ['FRIESLAND', 'GELDERLAND', 'NOORD-HOLLAND', 'OVERIJSSEL','ZEELAND', 'ZUID-HOLLAND', 'FLEVOLAND', 'UTRECHT', 'DRENTHE','NOORD-BRABANT', 'LIMBURG', 'NETHERLANDS', 'GRONINGEN']\n",
    "\n",
    "for  region in regions:    \n",
    "    test = df3.groupby(['hostname2']).agg(percentage_in_region = pd.NamedAgg(column='region', aggfunc= lambda x : int((x == region).sum()) / int(len(x)))).reset_index()\n",
    "\n",
    "\n",
    "\n",
    "    bins= [0,0.1,0.2,0.3,0.4,0.5,0.6,0.7,0.8,0.9,1]\n",
    "    plt.hist(test.percentage_in_region.values, bins=bins, edgecolor=\"k\")\n",
    "    plt.xticks(bins)\n",
    "    plt.xlabel('percentage of devices in:' + )\n",
    "\n",
    "    plt.show()\n",
    "    \n",
    "# hosts = ['kpn-gprs.nl', 'versatel.nl', 'kpn.net', 'routit.net', 'ziggo.nl']   \n",
    "\n",
    "# for host in hosts:\n",
    "#     print(test[test.hostname2 == host])\n",
    "    "
   ]
  },
  {
   "cell_type": "code",
   "execution_count": 16,
   "metadata": {},
   "outputs": [],
   "source": [
    "# vc = df.banner.value_counts()\n",
    "\n",
    "word_list_refuse = [\"reject\", \"refused\", \"refuse\", \"rejected\", 'block']\n",
    "endresult2 = dict()\n",
    "\n",
    "hosts = ['kpn-gprs.nl', 'versatel.nl', 'kpn.net', 'routit.net', 'ziggo.nl']                      \n",
    "for host in hosts:\n",
    "    df_host = df2.loc[df2['hostname2'] == host]\n",
    " \n",
    "    result2 = list()\n",
    "    for day in days:\n",
    "        vc = df_host.loc[df_host.timestamp == day].banner.value_counts()\n",
    "        total_banner_block = 0\n",
    "        total_count_block = 0\n",
    "        for banner,count in vc.items():\n",
    "            for word in word_list_refuse:\n",
    "                if(word in  banner.lower() or banner == \"\"):\n",
    "        #             print(banner)\n",
    "                    total_banner_block += 1 \n",
    "                    total_count_block += count\n",
    "                    break\n",
    "        if len(df_host.loc[df_host.timestamp == day]) > 0:\n",
    "            result2.append(total_count_block/df_host.loc[df_host.timestamp == day].shape[0])\n",
    "    endresult2[host] = np.mean(result2)\n"
   ]
  },
  {
   "cell_type": "code",
   "execution_count": 17,
   "metadata": {},
   "outputs": [
    {
     "data": {
      "text/plain": [
       "{'kpn-gprs.nl': 0.006282367086893936,\n",
       " 'versatel.nl': 0.0005771450557906887,\n",
       " 'kpn.net': 0.025131521553671266,\n",
       " 'routit.net': 0.0575920946165807,\n",
       " 'ziggo.nl': 0.01496843157363884}"
      ]
     },
     "execution_count": 17,
     "metadata": {},
     "output_type": "execute_result"
    }
   ],
   "source": [
    "endresult2"
   ]
  },
  {
   "cell_type": "code",
   "execution_count": 31,
   "metadata": {},
   "outputs": [],
   "source": [
    "# df.info()\n",
    "\n",
    "hst = 'ziggo.nl'\n",
    "# {'kpn-gprs.nl': 0.6237186949627803,\n",
    "#  'versatel.nl': 0.996296958252756,\n",
    "#  'kpn.net': 0.7876743917834791,\n",
    "#  'routit.net': 0.8436739748229162,\n",
    "#  'ziggo.nl': 0.7971509662783381}   \n",
    "\n",
    "\n",
    "y = [endresult[hst], 1- endresult[hst]]\n",
    "x = [\"Authentication\", \"No authentication\"]\n",
    "\n",
    "Y = [endresult2[hst], 1 -endresult2[hst]]\n",
    "X = [\"Refuse\", \"Accept\"]"
   ]
  },
  {
   "cell_type": "code",
   "execution_count": 17,
   "metadata": {},
   "outputs": [
    {
     "data": {
      "image/png": "[encoded data removed]",
      "text/plain": [
       "<Figure size 432x288 with 1 Axes>"
      ]
     },
     "metadata": {
      "needs_background": "light"
     },
     "output_type": "display_data"
    }
   ],
   "source": [
    "import matplotlib.pyplot as plt\n",
    "\n",
    "\n",
    "\n",
    "bars = plt.bar(x, height=y, width=.4)\n",
    "\n",
    "xlocs, xlabs = plt.xticks()\n",
    "\n",
    "# reference x so you don't need to change the range each time x changes\n",
    "xlocs=[i for i in x]\n",
    "xlabs=[i for i in x]\n",
    "\n",
    "plt.xlabel('Devices requiring authentication')\n",
    "\n",
    "plt.xticks(xlocs, xlabs)\n",
    "\n",
    "for bar in bars:\n",
    "    yval = bar.get_height()\n",
    "    plt.text(bar.get_x(), yval + .005, yval)\n",
    "\n",
    "plt.show()"
   ]
  },
  {
   "cell_type": "code",
   "execution_count": 18,
   "metadata": {},
   "outputs": [
    {
     "data": {
      "image/png": "[encoded data removed]",
      "text/plain": [
       "<Figure size 432x288 with 1 Axes>"
      ]
     },
     "metadata": {
      "needs_background": "light"
     },
     "output_type": "display_data"
    }
   ],
   "source": [
    "import matplotlib.pyplot as plt\n",
    "\n",
    "\n",
    "\n",
    "bars = plt.bar(X, height=Y, width=.4)\n",
    "\n",
    "xlocs, xlabs = plt.xticks()\n",
    "\n",
    "# reference x so you don't need to change the range each time x changes\n",
    "xlocs=[i for i in X]\n",
    "xlabs=[i for i in X]\n",
    "\n",
    "plt.xlabel('Devices refusing connection')\n",
    "\n",
    "plt.xticks(xlocs, xlabs)\n",
    "\n",
    "for bar in bars:\n",
    "    yval = bar.get_height()\n",
    "    plt.text(bar.get_x(), yval + .005, yval)\n",
    "\n",
    "plt.show()"
   ]
  },
  {
   "cell_type": "code",
   "execution_count": 32,
   "metadata": {},
   "outputs": [
    {
     "data": {
      "image/png": "[encoded data removed]",
      "text/plain": [
       "<Figure size 432x288 with 1 Axes>"
      ]
     },
     "metadata": {},
     "output_type": "display_data"
    }
   ],
   "source": [
    "             \n",
    "\n",
    "\n",
    "# Pie chart, where the slices will be ordered and plotted counter-clockwise:\n",
    "labels = 'Authentication', 'No Authentication'\n",
    "\n",
    "fig1, ax1 = plt.subplots()\n",
    "ax1.pie(y,  labels=labels, autopct='%1.1f%%',\n",
    "         startangle=90)\n",
    "ax1.axis('equal')  # Equal aspect ratio ensures that pie is drawn as a circle.\n",
    "\n",
    "plt.show()"
   ]
  },
  {
   "cell_type": "code",
   "execution_count": 33,
   "metadata": {},
   "outputs": [
    {
     "data": {
      "image/png": "[encoded data removed]",
      "text/plain": [
       "<Figure size 432x288 with 1 Axes>"
      ]
     },
     "metadata": {},
     "output_type": "display_data"
    }
   ],
   "source": [
    "\n",
    "# Pie chart, where the slices will be ordered and plotted counter-clockwise:\n",
    "labels =\"Refuse\", \"Accept\"\n",
    "\n",
    "fig1, ax1 = plt.subplots()\n",
    "ax1.pie(Y,  labels=labels, autopct='%1.1f%%',\n",
    "         startangle=90)\n",
    "ax1.axis('equal')  # Equal aspect ratio ensures that pie is drawn as a circle.\n",
    "\n",
    "plt.show()"
   ]
  }
 ],
 "metadata": {
  "kernelspec": {
   "display_name": "Python 3",
   "language": "python",
   "name": "python3"
  },
  "language_info": {
   "codemirror_mode": {
    "name": "ipython",
    "version": 3
   },
   "file_extension": ".py",
   "mimetype": "text/x-python",
   "name": "python",
   "nbconvert_exporter": "python",
   "pygments_lexer": "ipython3",
   "version": "3.6.5"
  }
 },
 "nbformat": 4,
 "nbformat_minor": 2
}
